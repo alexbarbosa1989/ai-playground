{
 "cells": [
  {
   "cell_type": "code",
   "execution_count": 1,
   "id": "f74af3fd-9054-4588-b94c-3c26dedf815a",
   "metadata": {},
   "outputs": [],
   "source": [
    "from docling.document_converter import DocumentConverter"
   ]
  },
  {
   "cell_type": "code",
   "execution_count": 2,
   "id": "a6174a5c-5bfe-4e3d-a3a8-e870ca45d53a",
   "metadata": {},
   "outputs": [
    {
     "data": {
      "application/vnd.jupyter.widget-view+json": {
       "model_id": "376788add823449baee04b6dc64becd3",
       "version_major": 2,
       "version_minor": 0
      },
      "text/plain": [
       "Fetching 9 files:   0%|          | 0/9 [00:00<?, ?it/s]"
      ]
     },
     "metadata": {},
     "output_type": "display_data"
    }
   ],
   "source": [
    "source = \"https://docs.redhat.com/en-us/documentation/red_hat_enterprise_linux_ai/1.3/pdf/getting_started/Red_Hat_Enterprise_Linux_AI-1.1-Getting_Started-en-US.pdf\"  # PDF path or URL\n",
    "converter = DocumentConverter()\n",
    "result = converter.convert(source)\n",
    "\n",
    "with open('docling-output.md', 'a') as f:\n",
    "    f.write(result.document.export_to_markdown())\n",
    "#print(result.document.export_to_markdown()) "
   ]
  },
  {
   "cell_type": "code",
   "execution_count": null,
   "id": "4c6fabb1-f0ce-48bf-adef-6ee9a4bba4b3",
   "metadata": {},
   "outputs": [],
   "source": []
  }
 ],
 "metadata": {
  "kernelspec": {
   "display_name": "Python 3 (ipykernel)",
   "language": "python",
   "name": "python3"
  },
  "language_info": {
   "codemirror_mode": {
    "name": "ipython",
    "version": 3
   },
   "file_extension": ".py",
   "mimetype": "text/x-python",
   "name": "python",
   "nbconvert_exporter": "python",
   "pygments_lexer": "ipython3",
   "version": "3.11.11"
  }
 },
 "nbformat": 4,
 "nbformat_minor": 5
}
